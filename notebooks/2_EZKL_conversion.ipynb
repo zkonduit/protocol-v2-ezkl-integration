{
 "cells": [
  {
   "cell_type": "markdown",
   "metadata": {
    "id": "85txNWlEH3kx"
   },
   "source": [
    "# Import dependencies"
   ]
  },
  {
   "cell_type": "code",
   "execution_count": 133,
   "metadata": {
    "id": "7jKjOwbfsXo-"
   },
   "outputs": [],
   "source": [
    "import pandas as pd\n",
    "from io import StringIO\n",
    "import requests\n",
    "import json\n",
    "import numpy as np\n",
    "import matplotlib.pyplot as plt\n",
    "import ezkl\n",
    "import torch\n",
    "import torch.nn as nn\n",
    "import torch.optim as optim\n",
    "import os\n",
    "from scipy import stats\n",
    "import scipy\n",
    "import onnxruntime\n",
    "from dataclasses import dataclass\n",
    "from typing import List, Dict\n"
   ]
  },
  {
   "cell_type": "markdown",
   "metadata": {
    "id": "hRsfKMLdsKH5"
   },
   "source": [
    "# Load Data"
   ]
  },
  {
   "cell_type": "markdown",
   "metadata": {
    "id": "g6XKzCEfyuYP"
   },
   "source": [
    "## Hype Prices\n",
    "\n",
    "**PLEASE AVOID SPAMMING THIS LINE OTHERWISE WE GET RATE LIMITED**"
   ]
  },
  {
   "cell_type": "code",
   "execution_count": 134,
   "metadata": {
    "colab": {
     "base_uri": "https://localhost:8080/"
    },
    "id": "CBk6_h3yytIh",
    "outputId": "dccccb55-1bed-43bc-d54a-bd91308c64bf"
   },
   "outputs": [
    {
     "name": "stdout",
     "output_type": "stream",
     "text": [
      "{\"prices\":[[1732838400000,6.512709126014327],[1732924800000,6.512709126014327],[1733011200000,8.644603573199845],[1733097600000,9.459223086748034],[1733184000000,8.43020480298621],[1733270400000,11.16858001247626],[1733356800000,10.927396907589728],[1733443200000,12.59259618742528],[1733529600000,13.824764093589229],[1733616000000,14.148295136918554],[1733702400000,14.188638965497068],[1733788800000,13.390810695266785],[1733875200000,13.878510532121165],[1733961600000,16.160291494319157],[1734048000000,18.32086197907653],[1734134400000,19.445355374548534],[1734220800000,24.278950866911032],[1734307200000,24.06784264061239],[1734393600000,27.451297316399142],[1734480000000,25.590526995880662],[1734566400000,23.166825060814343],[1734652800000,25.041541157512242],[1734739200000,29.960485436304847],[1734825600000,32.40674492071673],[1734912000000,28.218793897378536],[1734998400000,28.312352202537458],[1735084800000,29.823925491530062],[1735171200000,26.788314746069965],[1735257600000,26.867640925078334],[1735344000000,27.086010481716727],[1735430400000,29.152346646591603],[1735516800000,27.60284480576535],[1735603200000,26.919616779779485],[1735689600000,24.12474358313879],[1735776000000,26.194213852135658],[1735862400000,23.146733100850973],[1735948800000,24.355707393428627],[1736035200000,24.863713285527787],[1736121600000,24.3822689493983],[1736208000000,25.351379930173476],[1736294400000,23.69707632091783],[1736380800000,22.651860775079726],[1736467200000,20.32366713779088],[1736553600000,20.86081863144586],[1736640000000,20.850967475949265],[1736726400000,21.16384214221906],[1736812800000,21.66663188617453],[1736899200000,23.00074996831128],[1736985600000,24.24830092223233],[1737072000000,23.571836734647334],[1737158400000,23.128838172193063],[1737244800000,21.700576230503504],[1737331200000,20.309248811204178],[1737417600000,20.452264083386375],[1737504000000,23.088173375878227],[1737590400000,24.32216600898521],[1737676800000,22.162003466310143],[1737763200000,22.807534212004068],[1737849600000,23.236342767568345],[1737936000000,22.148632733884593],[1738022400000,23.155694262646712],[1738108800000,22.071717599117154],[1738195200000,23.74410626301079],[1738281600000,27.68872825548394],[1738368000000,26.90772719520058],[1738454400000,23.65299411298062],[1738540800000,22.169205122636715],[1738594882000,24.20485159036131]],\"market_caps\":[[1732838400000,2173806562.4696655],[1732924800000,2173806562.4696655],[1733011200000,2886084649.1188464],[1733097600000,3158260665.6317434],[1733184000000,2729975838.5798764],[1733270400000,3730202980.6599746],[1733356800000,3650936816.9844956],[1733443200000,4200575474.3698063],[1733529600000,4615457707.046195],[1733616000000,4724718267.26258],[1733702400000,4731615499.018337],[1733788800000,4468347257.659359],[1733875200000,4634300467.501319],[1733961600000,5396583949.176273],[1734048000000,6115803355.084299],[1734134400000,6490275582.657569],[1734220800000,8109348047.466743],[1734307200000,8029279711.218239],[1734393600000,9175188173.30223],[1734480000000,8551270284.749947],[1734566400000,7696140208.241728],[1734652800000,8360684632.158544],[1734739200000,10001580339.632174],[1734825600000,10813688145.447886],[1734912000000,9426569751.713112],[1734998400000,9511600140.877136],[1735084800000,9953518995.125809],[1735171200000,8996747295.622519],[1735257600000,8953970195.781223],[1735344000000,9046492812.613054],[1735430400000,9738105193.22308],[1735516800000,9189607535.170898],[1735603200000,8983173525.355417],[1735689600000,7875987022.647723],[1735776000000,8693794980.406246],[1735862400000,7729346457.312921],[1735948800000,8100007848.075042],[1736035200000,8304082393.71853],[1736121600000,8142859906.100961],[1736208000000,8475479909.359288],[1736294400000,7907614002.3698635],[1736380800000,7569253176.542421],[1736467200000,6757337583.725246],[1736553600000,6964223856.351166],[1736640000000,6972495581.812015],[1736726400000,7067985906.393561],[1736812800000,7234181591.644206],[1736899200000,7671314507.789934],[1736985600000,8062169798.779484],[1737072000000,7866989167.941243],[1737158400000,7729804893.572777],[1737244800000,7242591162.346675],[1737331200000,6739046616.49494],[1737417600000,6837562921.855584],[1737504000000,7709264739.967156],[1737590400000,8126876199.413329],[1737676800000,7420863115.724105],[1737763200000,7612841078.958893],[1737849600000,7759269650.230259],[1737936000000,7477113568.85257],[1738022400000,7739419857.781204],[1738108800000,7367023826.103899],[1738195200000,7928269206.975819],[1738281600000,9247793472.883097],[1738368000000,8981405540.541336],[1738454400000,7851550832.803152],[1738540800000,7389591712.890885],[1738594882000,7851563667.749032]],\"total_volumes\":[[1732838400000,571054978.9056152],[1732924800000,571054978.9056152],[1733011200000,359092154.4383894],[1733097600000,321680476.00677305],[1733184000000,281173012.31597817],[1733270400000,222527019.40944338],[1733356800000,296923048.011427],[1733443200000,266610976.36697313],[1733529600000,178102706.70258743],[1733616000000,158490524.7496711],[1733702400000,119117878.63711073],[1733788800000,235681437.49084866],[1733875200000,186366878.51401043],[1733961600000,174346680.7190888],[1734048000000,250978998.95148337],[1734134400000,180130571.20551145],[1734220800000,349984547.21015304],[1734307200000,379419833.5940492],[1734393600000,355065778.340578],[1734480000000,423557573.4351762],[1734566400000,21476443.70794218],[1734652800000,31290078.042403825],[1734739200000,564870900.2180753],[1734825600000,499981446.5609012],[1734912000000,505311555.914646],[1734998400000,673828370.6487273],[1735084800000,393597313.3265297],[1735171200000,35250235.5145414],[1735257600000,322296149.05537236],[1735344000000,227856208.0691344],[1735430400000,173885217.5690188],[1735516800000,144248943.2276687],[1735603200000,193369011.3492814],[1735689600000,21850372.300109155],[1735776000000,179166476.19046482],[1735862400000,211081781.47049454],[1735948800000,228764706.55476388],[1736035200000,122630938.01955464],[1736121600000,101475459.5422009],[1736208000000,17434105.047893472],[1736294400000,167827016.32060218],[1736380800000,294179154.2920612],[1736467200000,332331909.770443],[1736553600000,213402924.51142138],[1736640000000,109556005.57735306],[1736726400000,97223681.54298571],[1736812800000,263196897.35525447],[1736899200000,198552319.19159925],[1736985600000,193674853.20571384],[1737072000000,147532583.3349906],[1737158400000,142453817.20955205],[1737244800000,350684772.27003896],[1737331200000,459499273.0582787],[1737417600000,320293507.3851742],[1737504000000,276743222.88371843],[1737590400000,209690036.22094807],[1737676800000,311813730.10118645],[1737763200000,191788777.93677106],[1737849600000,108092529.69850455],[1737936000000,120398484.7431044],[1738022400000,291371097.2213407],[1738108800000,186991050.67393154],[1738195200000,153680103.01675946],[1738281600000,289012806.6880538],[1738368000000,238342636.98962077],[1738454400000,267509844.5193558],[1738540800000,352471357.48070836],[1738594882000,554724204.0704865]]}\n"
     ]
    }
   ],
   "source": [
    "url = \"https://api.coingecko.com/api/v3/coins/hyperliquid/market_chart?vs_currency=usd&days=365&interval=daily\"\n",
    "\n",
    "headers = {\n",
    "    \"accept\": \"application/json\",\n",
    "    \"x-cg-demo-api-key\": \"CG-36bsacjiQd1F8rmk5z4j1tMs\"\n",
    "}\n",
    "\n",
    "response = requests.get(url, headers=headers)\n",
    "\n",
    "print(response.text)"
   ]
  },
  {
   "cell_type": "markdown",
   "metadata": {},
   "source": [
    "Store the last 20 days of daily price data to a CSV. Will use this later to seed the UniTickAttestor contract with the initial set of price data. "
   ]
  },
  {
   "cell_type": "code",
   "execution_count": 135,
   "metadata": {},
   "outputs": [],
   "source": [
    "response = requests.get(url, headers=headers)\n",
    "price_json = json.loads(response.text)\n",
    "prices = price_json[\"prices\"]\n",
    "prices_df = pd.DataFrame(prices)\n",
    "\n",
    "prices_df.columns = ['Timestamp', 'Price']\n",
    "\n",
    "# sort\n",
    "prices_df = prices_df.sort_values('Timestamp')\n",
    "\n",
    "# Scale price by 1e6 to match USDC decimals and convert to integer\n",
    "prices_df['Price'] = (prices_df['Price'] * 1e6).astype(int)\n",
    "\n",
    "# Remove the first row as it will have NaN for returns\n",
    "prices_df = prices_df.dropna()\n",
    "\n",
    "# Take only the first 20 \n",
    "prices_20 = prices_df['Price'][-20:].dropna().values.tolist()\n",
    "\n",
    "# Save only price columns to json\n",
    "with open(os.path.join(\"data\", \"price_data.json\"), 'w') as f:\n",
    "    json.dump(prices_20, f)"
   ]
  },
  {
   "cell_type": "code",
   "execution_count": 136,
   "metadata": {},
   "outputs": [
    {
     "name": "stdout",
     "output_type": "stream",
     "text": [
      "           t          c  pct_returns  log_returns\n",
      "1 2024-11-30   6.512709     0.000000     0.000000\n",
      "2 2024-12-01   8.644604     0.327344     0.283180\n",
      "3 2024-12-02   9.459223     0.094234     0.090055\n",
      "4 2024-12-03   8.430205    -0.108785    -0.115169\n",
      "5 2024-12-04  11.168580     0.324829     0.281283\n",
      "\n",
      "Percentage Returns Statistics:\n",
      "count    67.000000\n",
      "mean      0.024200\n",
      "std       0.098041\n",
      "min      -0.129231\n",
      "25%      -0.046812\n",
      "50%       0.015005\n",
      "75%       0.076029\n",
      "max       0.327344\n",
      "Name: pct_returns, dtype: float64\n",
      "\n",
      "Log Returns Statistics:\n",
      "count    67.000000\n",
      "mean      0.019594\n",
      "std       0.092704\n",
      "min      -0.138378\n",
      "25%      -0.047943\n",
      "50%       0.014894\n",
      "75%       0.073278\n",
      "max       0.283180\n",
      "Name: log_returns, dtype: float64\n"
     ]
    }
   ],
   "source": [
    "prices_df = pd.DataFrame(prices)\n",
    "prices_df[0] = pd.to_datetime(prices_df[0], unit='ms')\n",
    "\n",
    "prices_df.columns = ['t', 'c']\n",
    "\n",
    "# sort\n",
    "prices_df = prices_df.sort_values('t')\n",
    "\n",
    "# calculate pct return and log returns\n",
    "prices_df['pct_returns'] = prices_df['c'].pct_change()\n",
    "prices_df['log_returns'] = np.log(prices_df['c'] / prices_df['c'].shift(1))\n",
    "\n",
    "# Remove the first row as it will have NaNs for returns\n",
    "prices_df = prices_df.dropna()\n",
    "\n",
    "# Display the first few rows of the modified DataFrame\n",
    "print(prices_df.head())\n",
    "\n",
    "# Display basic statistics of both types of returns\n",
    "print(\"\\nPercentage Returns Statistics:\")\n",
    "print(prices_df['pct_returns'].describe())\n",
    "\n",
    "print(\"\\nLog Returns Statistics:\")\n",
    "print(prices_df['log_returns'].describe())"
   ]
  },
  {
   "cell_type": "markdown",
   "metadata": {
    "id": "8Od6BWgI3yyU"
   },
   "source": [
    "## GARCH -> ZKP with EZKL\n",
    "\n",
    "Create a PyTorch Model and export to ONNX, for the model here we can just do a one step lookback and forecast. We can reapply the model for a longer forecast period"
   ]
  },
  {
   "cell_type": "code",
   "execution_count": 137,
   "metadata": {
    "id": "38a0P5PE3Pbr"
   },
   "outputs": [],
   "source": [
    "# FAIL: Unable to export vectorized model\n",
    "class GARCHModel(nn.Module):\n",
    "    def __init__(self, omega=[0.01], alpha=[0.1], beta=[0.8]):\n",
    "        super(GARCHModel, self).__init__()\n",
    "        self.omega = nn.Parameter(torch.tensor(omega, dtype=torch.float32))\n",
    "        self.alpha = nn.Parameter(torch.tensor(alpha, dtype=torch.float32))\n",
    "        self.beta = nn.Parameter(torch.tensor(beta, dtype=torch.float32))\n",
    "\n",
    "    def forward(self, returns, n_forecast):\n",
    "        T = returns.shape[0]\n",
    "        variance = torch.zeros(T, dtype=torch.float32)\n",
    "        variance[0] = returns.var()\n",
    "\n",
    "        # Vectorized garch formula\n",
    "        sqr_returns = returns[:-1]**2\n",
    "        temp_var = self.omega + self.alpha * sqr_returns + self.beta * variance[:-1]\n",
    "        variance = torch.cat([variance[:1], temp_var])\n",
    "\n",
    "        # vectorized forecast\n",
    "        last_variance = variance[-1]\n",
    "        # TODO: This vectorized forecast is wrong !\n",
    "        forecast = self.omega.expand(n_forecast) \\\n",
    "            + self.beta.expand(n_forecast) \\\n",
    "            * torch.pow(self.beta, torch.arange(n_forecast, dtype=torch.float32)) \\\n",
    "            * last_variance\n",
    "\n",
    "        return variance, forecast"
   ]
  },
  {
   "cell_type": "code",
   "execution_count": 138,
   "metadata": {
    "id": "xwCH213OphEV"
   },
   "outputs": [],
   "source": [
    "# FAIL: Unable to export due to loops\n",
    "# We use this for training as we are able to forecast on a longer range\n",
    "class GARCHModel2(nn.Module):\n",
    "    def __init__(self, omega=[0.01], alpha=[0.1], beta=[0.8]):\n",
    "        super(GARCHModel2, self).__init__()\n",
    "        self.omega = nn.Parameter(torch.tensor(omega, dtype=torch.float32))\n",
    "        self.alpha = nn.Parameter(torch.tensor(alpha, dtype=torch.float32))\n",
    "        self.beta = nn.Parameter(torch.tensor(beta, dtype=torch.float32))\n",
    "\n",
    "    def forward(self, returns, n_forecast):\n",
    "        T = returns.shape[0]\n",
    "\n",
    "        initial_variance = returns.var()\n",
    "\n",
    "        variances = []\n",
    "        current_variance = initial_variance\n",
    "\n",
    "        for t in range(T-1):\n",
    "            next_variance = (self.omega +\n",
    "                           self.alpha * returns[t]**2 +\n",
    "                           self.beta * current_variance)\n",
    "            variances.append(next_variance)\n",
    "            current_variance = next_variance\n",
    "\n",
    "        variance = torch.cat([initial_variance.unsqueeze(0)] + variances).squeeze()\n",
    "\n",
    "        last_variance = variance[-1]\n",
    "\n",
    "        forecast = []\n",
    "        current_forecast = self.omega + self.alpha * returns[-1]**2 + self.beta * variance[-1]  # h=1\n",
    "        sqrt_current_forecast = torch.sqrt(current_forecast)\n",
    "        forecast.append(current_forecast.squeeze())\n",
    "\n",
    "        # For h > 1\n",
    "        persistence = self.alpha + self.beta\n",
    "        for _ in range(n_forecast - 1):\n",
    "            current_forecast = self.omega + persistence * current_forecast\n",
    "\n",
    "            # sqrt to get the standard deviation\n",
    "            sqrt_current_forecast = torch.sqrt(current_forecast)\n",
    "            forecast.append(sqrt_current_forecast.squeeze())\n",
    "\n",
    "        # Stack and flatten the forecast\n",
    "        forecast = torch.stack(forecast).squeeze()\n",
    "\n",
    "        return variance, forecast\n"
   ]
  },
  {
   "cell_type": "code",
   "execution_count": 139,
   "metadata": {
    "id": "MiDYXQZP-eaD"
   },
   "outputs": [],
   "source": [
    "# OK: One step forecast only\n",
    "class GARCHModel3(nn.Module):\n",
    "    def __init__(self, omega=[0.01], alpha=[0.1], beta=[0.8], use_pct=False):\n",
    "        super(GARCHModel3, self).__init__()\n",
    "        self.omega = nn.Parameter(torch.tensor(omega, dtype=torch.float32))\n",
    "        self.alpha = nn.Parameter(torch.tensor(alpha, dtype=torch.float32))\n",
    "        self.beta = nn.Parameter(torch.tensor(beta, dtype=torch.float32))\n",
    "        self.use_pct = use_pct\n",
    "\n",
    "    def forward(self, prices):\n",
    "        if len(prices.shape) == 1:\n",
    "            prices = prices.unsqueeze(0)\n",
    "\n",
    "        epsilon = 1e-6\n",
    "        # Ensure all prices are positive by adding epsilon to prevent log(0)\n",
    "        prices = torch.clamp(prices, min=epsilon)\n",
    "\n",
    "        if self.use_pct:\n",
    "            # compute the pct returns\n",
    "            returns = prices[:, 1:] / prices[:,:-1] - 1\n",
    "        else:\n",
    "            # compute log returns\n",
    "            returns = torch.log(prices[:, 1:] / prices[:,:-1])\n",
    "\n",
    "\n",
    "        returns_squared = returns * returns\n",
    "        last_variance = torch.mean(returns_squared, dim=1)\n",
    "\n",
    "        last_return = returns[:, -1]\n",
    "        last_return_squared = last_return * last_return\n",
    "\n",
    "        forecast = self.omega + self.alpha * last_return_squared + self.beta * last_variance\n",
    "\n",
    "        # return sqrt to get std deviation\n",
    "        return torch.sqrt(forecast)\n"
   ]
  },
  {
   "cell_type": "code",
   "execution_count": 140,
   "metadata": {
    "colab": {
     "base_uri": "https://localhost:8080/"
    },
    "id": "khUtIZC7vrao",
    "outputId": "8b2ee071-0590-496f-d0f6-38f86d276501"
   },
   "outputs": [
    {
     "name": "stdout",
     "output_type": "stream",
     "text": [
      "Input shape: torch.Size([5])\n",
      "Output value: tensor([0.5474], grad_fn=<SqrtBackward0>)\n",
      "Output shape: torch.Size([1])\n"
     ]
    }
   ],
   "source": [
    "# Sanity checks\n",
    "def test_model_output():\n",
    "    \"\"\"Test function to verify scalar output\"\"\"\n",
    "    # Test input\n",
    "    returns = torch.tensor([0.1, 0.2, 0.15, 0.1, 0.05], dtype=torch.float32)\n",
    "\n",
    "    model = GARCHModel3()\n",
    "    forecast = model(returns)\n",
    "\n",
    "    print(\"Input shape:\", returns.shape)\n",
    "    print(\"Output value:\", forecast)\n",
    "    print(\"Output shape:\", forecast.shape)\n",
    "\n",
    "    return model\n",
    "\n",
    "model = test_model_output()\n"
   ]
  },
  {
   "cell_type": "code",
   "execution_count": 141,
   "metadata": {
    "id": "9K70KYX8WeL-"
   },
   "outputs": [],
   "source": [
    "# Training function using a rolling window\n",
    "def train_garch_torch(\n",
    "        model,\n",
    "        returns,\n",
    "        train_window=14,\n",
    "        validation_window=2,\n",
    "        step=1,\n",
    "        epochs=1000,\n",
    "        lr=0.01,\n",
    "        device='cuda' if torch.cuda.is_available() else 'cpu'\n",
    "    ):\n",
    "    model = model.to(device)\n",
    "    optimizer = optim.Adam(model.parameters(), lr=lr)\n",
    "    returns_tensor = torch.tensor(returns, dtype=torch.float32, device=device)\n",
    "    criterion = nn.MSELoss()\n",
    "\n",
    "    total_loss = 0\n",
    "    n_iterations = 0\n",
    "\n",
    "    for i in range(0, len(returns) - train_window - validation_window + 1, step):\n",
    "        train_returns = returns_tensor[i:i+train_window]\n",
    "        val_returns = returns_tensor[i+train_window:i+train_window+validation_window]\n",
    "\n",
    "        for epoch in range(epochs):\n",
    "            optimizer.zero_grad()\n",
    "            # for model 1\n",
    "            # _, predicted_forecast = model(\n",
    "            #     train_returns, n_forecast=validation_window)\n",
    "            # loss_out = criterion(predicted_forecast, val_returns**2)\n",
    "\n",
    "            # for model 2\n",
    "            _, predicted_forecast = model(\n",
    "                train_returns, n_forecast=validation_window)\n",
    "            loss_out = criterion(predicted_forecast, val_returns)\n",
    "\n",
    "\n",
    "            # for model 3\n",
    "            # predicted_forecast = model(train_returns)\n",
    "            # # Note: because we already use the sqrt value in the function this is unnecessary\n",
    "            # loss_out = criterion(predicted_forecast, val_returns)\n",
    "            \n",
    "            loss_out.backward()\n",
    "            optimizer.step()\n",
    "\n",
    "            # Apply constraints after the optimizer step\n",
    "            with torch.no_grad():\n",
    "                model.omega.data.clamp_(min=1e-2)\n",
    "                model.alpha.data.clamp_(min=1e-2, max=1)\n",
    "                model.beta.data.clamp_(min=1e-2, max=1)\n",
    "                sum_params = model.alpha.data + model.beta.data\n",
    "                sum_params.clamp_(max=1)\n",
    "\n",
    "        total_loss += loss_out.item()\n",
    "        n_iterations += 1\n",
    "\n",
    "        if (i // step + 1) % 10 == 0:\n",
    "            print(f'Window [{i//step + 1}], Avg Loss: {total_loss/n_iterations:.12f}')\n",
    "\n",
    "    return model"
   ]
  },
  {
   "cell_type": "code",
   "execution_count": 142,
   "metadata": {
    "colab": {
     "background_save": true,
     "base_uri": "https://localhost:8080/"
    },
    "id": "SuQB9REMYV87",
    "outputId": "fd51b567-1be6-49bd-f0e1-dd5712533f35"
   },
   "outputs": [
    {
     "name": "stdout",
     "output_type": "stream",
     "text": [
      "Window [10], Avg Loss: 0.026133309180\n",
      "Window [20], Avg Loss: 0.025022096101\n",
      "Window [30], Avg Loss: 0.022572355288\n"
     ]
    }
   ],
   "source": [
    "garch_torch = GARCHModel2()\n",
    "# We use log instead of pct returns as it seems to be stabler wrt to dgarch\n",
    "# use 80% of data and use the remaining 20% for test\n",
    "trained_garch_torch = train_garch_torch(\n",
    "    garch_torch,\n",
    "    prices_df['log_returns'][0:((len(prices_df) // 10) * 8)].dropna().values,\n",
    "    train_window=14,\n",
    "    validation_window=2,\n",
    "    step=1,\n",
    "    epochs=100,\n",
    "    lr=0.0001\n",
    ")"
   ]
  },
  {
   "cell_type": "code",
   "execution_count": 143,
   "metadata": {
    "colab": {
     "background_save": true
    },
    "id": "8SjWr1e6aP1w"
   },
   "outputs": [],
   "source": [
    "# Get test loss\n",
    "def evaluate_garch_torch(\n",
    "        model,\n",
    "        test_returns,\n",
    "        eval_window=20,\n",
    "        forecast_window=3,\n",
    "        device='cuda' if torch.cuda.is_available() else 'cpu'\n",
    "    ):\n",
    "    model.eval()  # Set the model to evaluation mode\n",
    "    model = model.to(device)\n",
    "    criterion = nn.MSELoss()\n",
    "\n",
    "    # Check if we have enough data for at least one evaluation\n",
    "    if len(test_returns) < eval_window + forecast_window:\n",
    "        raise ValueError(f\"Test data length ({len(test_returns)}) is too short for evaluation. \"\n",
    "                         f\"It should be at least {eval_window + forecast_window}.\")\n",
    "\n",
    "    test_returns_tensor = torch.tensor(test_returns, dtype=torch.float32, device=device)\n",
    "\n",
    "    total_loss = 0\n",
    "    n_windows = 0\n",
    "\n",
    "    with torch.no_grad():\n",
    "        for i in range(0, len(test_returns) - eval_window - forecast_window + 1, forecast_window):\n",
    "            eval_returns = test_returns_tensor[i:i+eval_window]\n",
    "            forecast_returns = test_returns_tensor[i+eval_window:i+eval_window+forecast_window]\n",
    "\n",
    "            # model 1\n",
    "            # _, predicted_forecast = model(\n",
    "            #     eval_returns, n_forecast=forecast_window)\n",
    "            # loss_out = criterion(predicted_forecast, forecast_returns**2)\n",
    "\n",
    "            # model 2\n",
    "            _, predicted_forecast = model(\n",
    "                eval_returns, n_forecast=forecast_window)\n",
    "            loss_out = criterion(predicted_forecast, forecast_returns)\n",
    "\n",
    "            # model 3\n",
    "            # predicted_forecast = model(\n",
    "            #     eval_returns\n",
    "            # )\n",
    "            loss_out = criterion(predicted_forecast, forecast_returns)\n",
    "\n",
    "            total_loss += loss_out.item()\n",
    "            n_windows += 1\n",
    "\n",
    "    if n_windows == 0:\n",
    "        raise ValueError(\"No valid evaluation windows were created. \"\n",
    "                         \"This might be due to the step size being larger than the available data.\")\n",
    "\n",
    "    avg_loss = total_loss / n_windows\n",
    "    return avg_loss\n"
   ]
  },
  {
   "cell_type": "code",
   "execution_count": 144,
   "metadata": {
    "colab": {
     "background_save": true
    },
    "id": "a3kHG8Lob5r-",
    "outputId": "4ede185c-93f2-48b5-866c-3948d74a0b4a"
   },
   "outputs": [
    {
     "name": "stdout",
     "output_type": "stream",
     "text": [
      "Test Loss: 0.02937837\n",
      "Estimated parameters:\n",
      "Omega: 0.0099999998\n",
      "Alpha: 0.0099999998\n",
      "Beta: 0.5446072221\n"
     ]
    }
   ],
   "source": [
    "test_returns = prices_df['log_returns'][((len(prices_df) // 10) * 8):].dropna().values\n",
    "\n",
    "test_loss = evaluate_garch_torch(\n",
    "    trained_garch_torch,\n",
    "    test_returns,\n",
    "    eval_window=14,\n",
    "    forecast_window=2\n",
    ")\n",
    "\n",
    "print(f\"Test Loss: {test_loss:.8f}\")\n",
    "print(\"Estimated parameters:\")\n",
    "print(f\"Omega: {trained_garch_torch.omega.item():.10f}\")\n",
    "print(f\"Alpha: {trained_garch_torch.alpha.item():.10f}\")\n",
    "print(f\"Beta: {trained_garch_torch.beta.item():.10f}\")"
   ]
  },
  {
   "cell_type": "code",
   "execution_count": 145,
   "metadata": {
    "colab": {
     "background_save": true
    },
    "id": "peIhnRVhcjG4"
   },
   "outputs": [],
   "source": [
    "def generate_test_predictions(\n",
    "        model, test_returns, eval_window=20, forecast_window=1):\n",
    "    model.eval()\n",
    "    device = next(model.parameters()).device\n",
    "    test_returns_tensor = torch.tensor(test_returns, dtype=torch.float32, device=device)\n",
    "\n",
    "    predictions = []\n",
    "\n",
    "    with torch.no_grad():\n",
    "        for i in range(\n",
    "            0,\n",
    "            len(test_returns) - eval_window - forecast_window + 1, forecast_window\n",
    "        ):\n",
    "            eval_returns = test_returns_tensor[i:i+eval_window]\n",
    "\n",
    "            # model 1\n",
    "            # variances, forecast = model(\n",
    "            #     eval_returns, n_forecast=forecast_window)\n",
    "            \n",
    "            # model 2\n",
    "            variances, forecast = model(\n",
    "                eval_returns, n_forecast=forecast_window)\n",
    "\n",
    "            # model 3\n",
    "            # forecast = model(\n",
    "            #     eval_returns)\n",
    "\n",
    "            # print(forecast)\n",
    "\n",
    "            # Multiply prediction by 252 for the number of trading days in a year\n",
    "            # We avoid using 365 as typically the volumes as the volatility really only coincides with trading days\n",
    "            prediction = forecast.cpu().detach().item() * np.sqrt(252)\n",
    "            predictions.append(prediction)\n",
    "\n",
    "    # Pad the beginning with NaNs to match the length of test_returns\n",
    "    padding = len(test_returns) - len(predictions)\n",
    "    return np.pad(\n",
    "        predictions, (padding, 0), mode='constant', constant_values=np.nan)\n",
    "\n",
    "def plot_test_predictions(prices, test_returns, predicted_sd):\n",
    "    # Ensure all inputs are numpy arrays\n",
    "    prices = np.array(prices)\n",
    "    test_returns = np.array(test_returns)\n",
    "    predicted_sd = np.array(predicted_sd)\n",
    "\n",
    "    # Create a date range for x-axis\n",
    "    dates = pd.date_range(end=pd.Timestamp.today(), periods=len(prices))\n",
    "\n",
    "    # Create the plot\n",
    "    fig, ax1 = plt.subplots(figsize=(14, 8))\n",
    "\n",
    "    # Plot the price on the primary y-axis\n",
    "    ax1.plot(dates, prices, color='blue', label='Price')\n",
    "    ax1.set_xlabel('Date')\n",
    "    ax1.set_ylabel('Price', color='blue')\n",
    "    ax1.tick_params(axis='y', labelcolor='blue')\n",
    "\n",
    "    # Create a secondary y-axis for predicted sd\n",
    "    ax2 = ax1.twinx()\n",
    "\n",
    "    # Plot the predicted variance on the secondary y-axis\n",
    "    # note we use 365 here as crypto is 24/7\n",
    "    ax2.plot(dates, predicted_sd, color='red', label='Predicted Annualized Volatility')\n",
    "    ax2.set_ylabel('Predicted Annualized Volatility', color='red')\n",
    "    ax2.tick_params(axis='y', labelcolor='red')\n",
    "\n",
    "    # Combine legends\n",
    "    lines1, labels1 = ax1.get_legend_handles_labels()\n",
    "    lines2, labels2 = ax2.get_legend_handles_labels()\n",
    "    ax2.legend(lines1 + lines2, labels1 + labels2, loc='upper left')\n",
    "\n",
    "    plt.title('Price vs Predicted Annualized Volatility (Test Data)')\n",
    "    plt.xticks(rotation=45)\n",
    "    plt.tight_layout()\n",
    "    plt.show()\n",
    "\n",
    "def print_summary_statistics(prices, predicted_sd):\n",
    "    print(\"Price Statistics:\")\n",
    "    print(pd.Series(prices).describe())\n",
    "    print(\"\\nPredicted Volatility Statistics:\")\n",
    "    print(pd.Series(predicted_sd).describe())\n",
    "\n",
    "\n",
    "def evaluate_and_visualize_dgarch(model, test_prices, test_returns, eval_window=14, forecast_window=1):\n",
    "    # Generate predictions for the test data\n",
    "    predicted_sd = generate_test_predictions(model, test_returns, eval_window, forecast_window)\n",
    "\n",
    "    # Plot the results\n",
    "    plot_test_predictions(test_prices, test_returns, predicted_sd)\n",
    "\n",
    "    # Print summary statistics\n",
    "    print_summary_statistics(test_prices, predicted_sd)\n",
    "\n",
    "    return predicted_sd\n"
   ]
  },
  {
   "cell_type": "code",
   "execution_count": 146,
   "metadata": {
    "colab": {
     "background_save": true
    },
    "id": "1TrZStSlcptV",
    "outputId": "11e534f0-2fd9-4a27-e66c-2246619691a4"
   },
   "outputs": [
    {
     "data": {
      "image/png": "[encoded data removed]",
      "text/plain": [
       "<Figure size 1400x800 with 2 Axes>"
      ]
     },
     "metadata": {},
     "output_type": "display_data"
    },
    {
     "name": "stdout",
     "output_type": "stream",
     "text": [
      "Price Statistics:\n",
      "count    19.000000\n",
      "mean     23.185402\n",
      "std       1.820384\n",
      "min      20.309249\n",
      "25%      22.155318\n",
      "50%      23.128838\n",
      "75%      23.698550\n",
      "max      27.688728\n",
      "dtype: float64\n",
      "\n",
      "Predicted Volatility Statistics:\n",
      "count    5.000000\n",
      "mean     0.351566\n",
      "std      0.001261\n",
      "min      0.349802\n",
      "25%      0.351085\n",
      "50%      0.351399\n",
      "75%      0.352566\n",
      "max      0.352978\n",
      "dtype: float64\n"
     ]
    }
   ],
   "source": [
    "test_returns = prices_df['log_returns'][((len(prices_df) // 10) * 8):].dropna().values\n",
    "\n",
    "test_prices = prices_df['c'][((len(prices_df) // 10) * 8):].dropna().values\n",
    "\n",
    "predicted_variance = evaluate_and_visualize_dgarch(\n",
    "    trained_garch_torch, test_prices, test_returns)\n",
    "\n"
   ]
  },
  {
   "cell_type": "code",
   "execution_count": 147,
   "metadata": {
    "colab": {
     "background_save": true
    },
    "id": "mKjO7fhxJ00K"
   },
   "outputs": [],
   "source": [
    "def garch_forecast(model, returns, n_forecast=1):\n",
    "    model.eval()\n",
    "    returns = torch.tensor(returns.values, dtype=torch.float32)\n",
    "\n",
    "    conditional_variances, volatility_forecast = model(returns, n_forecast)\n",
    "\n",
    "    return conditional_variances, volatility_forecast"
   ]
  },
  {
   "cell_type": "code",
   "execution_count": 148,
   "metadata": {
    "colab": {
     "background_save": true
    },
    "id": "F2oBfMx6LwIy",
    "outputId": "9364000a-4de1-4adb-d419-39be43fa7f59"
   },
   "outputs": [
    {
     "name": "stdout",
     "output_type": "stream",
     "text": [
      "tensor([0.0221, 0.1493, 0.1495, 0.1497, 0.1497], grad_fn=<SqueezeBackward0>)\n",
      "Historical Conditional Variances (PCT):\n",
      "tensor([0.0220, 0.0223, 0.0221, 0.0222, 0.0221], grad_fn=<SliceBackward0>)\n",
      "Historical Conditional Variances (LOG):\n",
      "tensor([0.0220, 0.0222, 0.0221, 0.0222, 0.0221], grad_fn=<SliceBackward0>)\n",
      "\n",
      "Forecasted Volatilities:\n",
      "   Forecasted_Volatility_pct  Forecasted_Volatility_log\n",
      "0                   0.022138                   0.022134\n",
      "1                   0.149257                   0.149251\n",
      "2                   0.149517                   0.149514\n",
      "3                   0.149661                   0.149659\n",
      "4                   0.149741                   0.149740\n"
     ]
    }
   ],
   "source": [
    "model = trained_garch_torch\n",
    "n_forecast = 5  # Forecast for the next 5 days\n",
    "conditional_variances_pct, volatility_forecast_pct = garch_forecast(model, prices_df['pct_returns'], n_forecast=n_forecast)\n",
    "\n",
    "conditional_variances_log, volatility_forecast_log = garch_forecast(model, prices_df['log_returns'], n_forecast=n_forecast)\n",
    "\n",
    "print(volatility_forecast_pct)\n",
    "\n",
    "# Create a DataFrame with the results\n",
    "results_df = pd.DataFrame({\n",
    "    'Forecasted_Volatility_pct': volatility_forecast_pct.detach().numpy(),\n",
    "    'Forecasted_Volatility_log': volatility_forecast_log.detach().numpy()\n",
    "})\n",
    "\n",
    "print(\"Historical Conditional Variances (PCT):\")\n",
    "print(conditional_variances_pct[-5:])  # Last 5 historical variances\n",
    "print(\"Historical Conditional Variances (LOG):\")\n",
    "print(conditional_variances_log[-5:])  # Last 5 historical variances\n",
    "print(\"\\nForecasted Volatilities:\")\n",
    "print(results_df)"
   ]
  },
  {
   "cell_type": "code",
   "execution_count": 149,
   "metadata": {
    "colab": {
     "background_save": true
    },
    "id": "EbuqIlqXI9PD"
   },
   "outputs": [],
   "source": [
    "def export_garch_to_onnx(\n",
    "        model,\n",
    "        model_path=\"garch_model.onnx\",\n",
    "        returns_length=20,\n",
    "        n_forecast=1\n",
    "    ):\n",
    "    model.eval()  # Set the model to evaluation mode\n",
    "\n",
    "    # Create dummy input tensor\n",
    "    real_returns = prices_df['c'][-20:].dropna().values\n",
    "    x = torch.tensor(real_returns, dtype=torch.float32).reshape(1, -1)\n",
    "\n",
    "    # Export the model\n",
    "    torch.onnx.export(\n",
    "        model,                     # model being run\n",
    "        x,                         # model input (or a tuple for multiple inputs)\n",
    "        model_path,                # where to save the model\n",
    "        export_params=True,        # store the trained parameter weights inside the model file\n",
    "        opset_version=10,          # the ONNX version to export the model to\n",
    "        do_constant_folding=True,  # whether to execute constant folding for optimization\n",
    "        input_names=['input'],     # the model's input names\n",
    "        output_names=['output'],   # the model's output names\n",
    "        dynamic_axes={\n",
    "            'input': {0: 'batch_size'},\n",
    "            'output': {0: 'batch_size'}\n",
    "        }\n",
    "    )\n",
    "\n",
    "    print(f\"Model exported to {model_path}\")\n",
    "\n",
    "    data_array = x.detach().numpy().reshape([-1]).tolist()\n",
    "    data = {\n",
    "        \"input_data\": [data_array]\n",
    "    }\n",
    "\n",
    "    with open(os.path.join(\"data\", \"input.json\"), 'w') as f:\n",
    "        json.dump(data, f)\n",
    "\n",
    "    return x"
   ]
  },
  {
   "cell_type": "code",
   "execution_count": 150,
   "metadata": {
    "colab": {
     "background_save": true
    },
    "id": "fVVVtyJXJHXg",
    "outputId": "eeb14b40-c63c-4fea-e167-a2772c5ee861"
   },
   "outputs": [
    {
     "name": "stdout",
     "output_type": "stream",
     "text": [
      "Model exported to data/garch_model_log.onnx\n",
      "Model exported to data/garch_model_pct.onnx\n"
     ]
    },
    {
     "data": {
      "text/plain": [
       "tensor([[24.2483, 23.5718, 23.1288, 21.7006, 20.3092, 20.4523, 23.0882, 24.3222,\n",
       "         22.1620, 22.8075, 23.2363, 22.1486, 23.1557, 22.0717, 23.7441, 27.6887,\n",
       "         26.9077, 23.6530, 22.1692, 24.2049]])"
      ]
     },
     "execution_count": 150,
     "metadata": {},
     "output_type": "execute_result"
    }
   ],
   "source": [
    "# use model 3 with optimal values from model 2\n",
    "optimal_garch_torch_log = GARCHModel3(\n",
    "    omega=[0.0099999998],\n",
    "    alpha=[0.0099999998],\n",
    "    beta=[0.0099999998],\n",
    "    use_pct=False\n",
    ")\n",
    "\n",
    "optimal_garch_torch_pct = GARCHModel3(\n",
    "    omega=[0.0099999998],\n",
    "    alpha=[0.0099999998],\n",
    "    beta=[0.0099999998],\n",
    "    use_pct=True\n",
    ")\n",
    "\n",
    "export_garch_to_onnx(optimal_garch_torch_log, os.path.join(\"data\", \"garch_model_log.onnx\"))\n",
    "export_garch_to_onnx(optimal_garch_torch_pct, os.path.join(\"data\", \"garch_model_pct.onnx\"))"
   ]
  },
  {
   "cell_type": "markdown",
   "metadata": {
    "id": "PgsW4pnLzLiV"
   },
   "source": [
    "## Test ONNX File\n",
    "**The values sorta checks out**, lets proceed with SNARKing it with EZKL 🤔"
   ]
  },
  {
   "cell_type": "code",
   "execution_count": 151,
   "metadata": {
    "colab": {
     "background_save": true
    },
    "id": "gSxy44gTzT9h"
   },
   "outputs": [],
   "source": [
    "def test_onnx_model(\n",
    "    pytorch_model,\n",
    "    onnx_path=\"garch_model.onnx\",\n",
    "    input_json_path=\"input.json\",\n",
    "    rtol=1e-03,\n",
    "    atol=1e-05\n",
    "):\n",
    "    \"\"\"\n",
    "    Test ONNX model output against PyTorch model\n",
    "\n",
    "    Args:\n",
    "        pytorch_model: Original PyTorch model\n",
    "        onnx_path: Path to exported ONNX model\n",
    "        input_json_path: Path to input data JSON\n",
    "        rtol: Relative tolerance for comparison\n",
    "        atol: Absolute tolerance for comparison\n",
    "    \"\"\"\n",
    "    with open(input_json_path, 'r') as f:\n",
    "        input_data = json.load(f)\n",
    "\n",
    "    input_numpy = np.array(input_data[\"input_data\"][0], dtype=np.float32)\n",
    "\n",
    "    ort_session = onnxruntime.InferenceSession(onnx_path)\n",
    "\n",
    "    ort_inputs = {\n",
    "        'input': input_numpy.reshape(1, -1)\n",
    "    }\n",
    "\n",
    "    ort_output = ort_session.run(None, ort_inputs)[0]\n",
    "\n",
    "    pytorch_input = torch.tensor(input_numpy, dtype=torch.float32)\n",
    "    with torch.no_grad():\n",
    "        pytorch_output = pytorch_model(pytorch_input).numpy()\n",
    "\n",
    "    print(\"\\nModel Comparison Results:\")\n",
    "    print(\"-\" * 50)\n",
    "    print(f\"Input shape: {input_numpy.shape}\")\n",
    "    print(f\"\\nPyTorch output: {pytorch_output}\")\n",
    "    print(f\"ONNX output: {ort_output}\")\n",
    "    print(f\"\\nAbsolute difference: {np.abs(pytorch_output - ort_output)}\")\n",
    "\n",
    "    np.testing.assert_allclose(\n",
    "        pytorch_output,\n",
    "        ort_output,\n",
    "        rtol=rtol,\n",
    "        atol=atol,\n",
    "        err_msg=\"ONNX and PyTorch outputs do not match within tolerance!\"\n",
    "    )\n",
    "    print(\"\\nSuccess: ONNX and PyTorch outputs match within tolerance!\")\n",
    "\n",
    "    return {\n",
    "        'pytorch_output': pytorch_output,\n",
    "        'onnx_output': ort_output,\n",
    "        'input_data': input_numpy\n",
    "    }\n"
   ]
  },
  {
   "cell_type": "code",
   "execution_count": 152,
   "metadata": {
    "colab": {
     "background_save": true
    },
    "id": "k0VpTbHFzatm",
    "outputId": "1efda8bf-aace-42fd-e634-7611f5da425d"
   },
   "outputs": [
    {
     "name": "stdout",
     "output_type": "stream",
     "text": [
      "\n",
      "Model Comparison Results:\n",
      "--------------------------------------------------\n",
      "Input shape: (20,)\n",
      "\n",
      "PyTorch output: [0.10065158]\n",
      "ONNX output: [0.10065158]\n",
      "\n",
      "Absolute difference: [0.]\n",
      "\n",
      "Success: ONNX and PyTorch outputs match within tolerance!\n",
      "\n",
      "Detailed Input/Output Analysis:\n",
      "--------------------------------------------------\n",
      "First few input values: [24.2483   23.571836 23.128838 21.700577 20.309248]\n",
      "PyTorch model parameters:\n",
      "omega: tensor([0.0100])\n",
      "alpha: tensor([0.0100])\n",
      "beta: tensor([0.0100])\n",
      "\n",
      "Model Comparison Results:\n",
      "--------------------------------------------------\n",
      "Input shape: (20,)\n",
      "\n",
      "PyTorch output: [0.10069611]\n",
      "ONNX output: [0.10069611]\n",
      "\n",
      "Absolute difference: [0.]\n",
      "\n",
      "Success: ONNX and PyTorch outputs match within tolerance!\n",
      "\n",
      "Detailed Input/Output Analysis:\n",
      "--------------------------------------------------\n",
      "First few input values: [24.2483   23.571836 23.128838 21.700577 20.309248]\n",
      "PyTorch model parameters:\n",
      "omega: tensor([0.0100])\n",
      "alpha: tensor([0.0100])\n",
      "beta: tensor([0.0100])\n"
     ]
    }
   ],
   "source": [
    "\n",
    "# Test the exported model\n",
    "try:\n",
    "    results = test_onnx_model(\n",
    "        optimal_garch_torch_log, \n",
    "        onnx_path=os.path.join(\"data\", \"garch_model_log.onnx\"),\n",
    "        input_json_path=os.path.join(\"data\", \"input.json\")\n",
    "    )\n",
    "\n",
    "    # Additional verification if needed\n",
    "    print(\"\\nDetailed Input/Output Analysis:\")\n",
    "    print(\"-\" * 50)\n",
    "    print(f\"First few input values: {results['input_data'][:5]}\")\n",
    "    print(f\"PyTorch model parameters:\")\n",
    "    for name, param in optimal_garch_torch_log.named_parameters():\n",
    "        print(f\"{name}: {param.data}\")\n",
    "\n",
    "    results = test_onnx_model(\n",
    "        optimal_garch_torch_pct, \n",
    "        onnx_path=os.path.join(\"data\", \"garch_model_pct.onnx\"),\n",
    "        input_json_path=os.path.join(\"data\", \"input.json\")\n",
    "    )\n",
    "\n",
    "    # Additional verification if needed\n",
    "    print(\"\\nDetailed Input/Output Analysis:\")\n",
    "    print(\"-\" * 50)\n",
    "    print(f\"First few input values: {results['input_data'][:5]}\")\n",
    "    print(f\"PyTorch model parameters:\")\n",
    "    for name, param in optimal_garch_torch_log.named_parameters():\n",
    "        print(f\"{name}: {param.data}\")\n",
    "\n",
    "except Exception as e:\n",
    "    print(f\"Error during testing: {str(e)}\")"
   ]
  },
  {
   "cell_type": "code",
   "execution_count": 153,
   "metadata": {
    "colab": {
     "background_save": true
    },
    "id": "WzfI-mj0L8Jy"
   },
   "outputs": [],
   "source": [
    "# Generate Settings\n",
    "py_run_args = ezkl.PyRunArgs()\n",
    "py_run_args.input_visibility = \"public\"\n",
    "py_run_args.param_visibility = \"fixed\"\n",
    "py_run_args.output_visibility = \"public\"\n",
    "py_run_args.bounded_log_lookup = True\n",
    "py_run_args.decomp_base = 16384 * 2\n",
    "py_run_args.decomp_legs = 4\n",
    "\n",
    "res = ezkl.gen_settings(\n",
    "    model=os.path.join(\"data\", \"garch_model_log.onnx\"), \n",
    "    output=os.path.join(\"data\", \"settings.json\"),\n",
    "    py_run_args=py_run_args\n",
    ")\n",
    "assert res == True\n"
   ]
  },
  {
   "cell_type": "code",
   "execution_count": 154,
   "metadata": {
    "colab": {
     "background_save": true
    },
    "id": "q7fJ0fLPNWsW",
    "outputId": "a42d1ecc-2f84-4f66-9b46-af1c50b6269c"
   },
   "outputs": [
    {
     "name": "stderr",
     "output_type": "stream",
     "text": [
      "[tensor] decomposition error: integer -1599293990152068096 is too large to be represented by base 32768 and n 4\n",
      "forward pass failed: \"failed to forward: [halo2] General synthesis error\"\n",
      "[tensor] decomposition error: integer -2679669351373921583105 is too large to be represented by base 32768 and n 4\n",
      "forward pass failed: \"failed to forward: [halo2] General synthesis error\"\n",
      "[tensor] decomposition error: integer -129336955708808805482497 is too large to be represented by base 32768 and n 4\n",
      "forward pass failed: \"failed to forward: [halo2] General synthesis error\"\n",
      "[tensor] decomposition error: integer -2679669351373921583105 is too large to be represented by base 32768 and n 4\n",
      "forward pass failed: \"failed to forward: [halo2] General synthesis error\"\n",
      "[tensor] decomposition error: integer -18642194094796711510017 is too large to be represented by base 32768 and n 4\n",
      "forward pass failed: \"failed to forward: [halo2] General synthesis error\"\n",
      "[tensor] decomposition error: integer -18642194094796711510017 is too large to be represented by base 32768 and n 4\n",
      "forward pass failed: \"failed to forward: [halo2] General synthesis error\"\n",
      "\n",
      "\n",
      " <------------- Numerical Fidelity Report (input_scale: 13, param_scale: 13, scale_input_multiplier: 1) ------------->\n",
      "\n",
      "+---------------+---------------+---------------+---------------+----------------+------------------+---------------+---------------+--------------------+--------------------+------------------------+\n",
      "| mean_error    | median_error  | max_error     | min_error     | mean_abs_error | median_abs_error | max_abs_error | min_abs_error | mean_squared_error | mean_percent_error | mean_abs_percent_error |\n",
      "+---------------+---------------+---------------+---------------+----------------+------------------+---------------+---------------+--------------------+--------------------+------------------------+\n",
      "| 0.00055392087 | 0.00055392087 | 0.00055392087 | 0.00055392087 | 0.00055392087  | 0.00055392087    | 0.00055392087 | 0.00055392087 | 0.00000030682833   | 0.00550335         | 0.00550335             |\n",
      "+---------------+---------------+---------------+---------------+----------------+------------------+---------------+---------------+--------------------+--------------------+------------------------+\n",
      "\n",
      "\n"
     ]
    }
   ],
   "source": [
    "# Optimize for resources\n",
    "res = await ezkl.calibrate_settings(\n",
    "    data=os.path.join(\"data\", \"input.json\"), \n",
    "    model=os.path.join(\"data\", \"garch_model_log.onnx\"),\n",
    "    settings=os.path.join(\"data\", \"settings.json\"),\n",
    "    target = \"resources\"\n",
    ")"
   ]
  },
  {
   "cell_type": "markdown",
   "metadata": {
    "id": "PfCYNYeRQM2E"
   },
   "source": [
    "**Note:** I thought the error was large but I realized the values were also large so it isn't too bad."
   ]
  },
  {
   "cell_type": "code",
   "execution_count": 155,
   "metadata": {
    "colab": {
     "background_save": true
    },
    "id": "O0IvKFLOPXcq"
   },
   "outputs": [],
   "source": [
    "# compile circuit\n",
    "res = ezkl.compile_circuit(\n",
    "    model=os.path.join(\"data\", \"garch_model_log.onnx\"),\n",
    "    compiled_circuit=os.path.join(\"data\", \"model.compiled\"),\n",
    "    settings_path=os.path.join(\"data\", \"settings.json\"),\n",
    ")\n",
    "assert res == True"
   ]
  },
  {
   "cell_type": "code",
   "execution_count": 156,
   "metadata": {
    "colab": {
     "background_save": true
    },
    "id": "aQu73hUGQY3S"
   },
   "outputs": [],
   "source": [
    "# get srs\n",
    "res = await ezkl.get_srs(settings_path=os.path.join(\"data\", \"settings.json\"))\n"
   ]
  },
  {
   "cell_type": "code",
   "execution_count": 157,
   "metadata": {
    "colab": {
     "background_save": true
    },
    "id": "6FkldkjtQtao"
   },
   "outputs": [],
   "source": [
    "# setup\n",
    "res = ezkl.setup(\n",
    "    model=os.path.join(\"data\", \"model.compiled\"),\n",
    "    vk_path=os.path.join(\"data\", \"vk.key\"),\n",
    "    pk_path=os.path.join(\"data\", \"pk.key\"),\n",
    ")\n",
    "\n",
    "assert res == True"
   ]
  },
  {
   "cell_type": "code",
   "execution_count": 158,
   "metadata": {
    "colab": {
     "background_save": true
    },
    "id": "ob2nkbB3QySF"
   },
   "outputs": [],
   "source": [
    "# generate witness\n",
    "res = await ezkl.gen_witness(\n",
    "    data=os.path.join(\"data\", \"input.json\"), \n",
    "    model=os.path.join(\"data\", \"model.compiled\"),\n",
    "    output=os.path.join(\"data\", \"witness.json\")\n",
    ")\n",
    "assert os.path.isfile(os.path.join(\"data\", \"witness.json\"))"
   ]
  },
  {
   "cell_type": "code",
   "execution_count": 159,
   "metadata": {
    "colab": {
     "background_save": true
    },
    "id": "ydlBZN4ZQ5Je",
    "outputId": "0da2a81e-1b9a-49a6-b261-008b7d079630"
   },
   "outputs": [
    {
     "name": "stdout",
     "output_type": "stream",
     "text": [
      "{'instances': [['f207030000000000000000000000000000000000000000000000000000000000', '4cf2020000000000000000000000000000000000000000000000000000000000', '1fe4020000000000000000000000000000000000000000000000000000000000', '6bb6020000000000000000000000000000000000000000000000000000000000', 'e589020000000000000000000000000000000000000000000000000000000000', '798e020000000000000000000000000000000000000000000000000000000000', 'd2e2020000000000000000000000000000000000000000000000000000000000', '4f0a030000000000000000000000000000000000000000000000000000000000', '2fc5020000000000000000000000000000000000000000000000000000000000', 'd7d9020000000000000000000000000000000000000000000000000000000000', '90e7020000000000000000000000000000000000000000000000000000000000', 'c2c4020000000000000000000000000000000000000000000000000000000000', 'fbe4020000000000000000000000000000000000000000000000000000000000', '4cc2020000000000000000000000000000000000000000000000000000000000', 'd0f7020000000000000000000000000000000000000000000000000000000000', '0a76030000000000000000000000000000000000000000000000000000000000', '0c5d030000000000000000000000000000000000000000000000000000000000', 'e5f4020000000000000000000000000000000000000000000000000000000000', '6ac5020000000000000000000000000000000000000000000000000000000000', '8e06030000000000000000000000000000000000000000000000000000000000', '3403000000000000000000000000000000000000000000000000000000000000']], 'proof': '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', 'transcript_type': 'EVM'}\n"
     ]
    }
   ],
   "source": [
    "# generate proof\n",
    "proof_path = os.path.join(\"data\", \"proof.json\")\n",
    "proof = ezkl.prove(\n",
    "    witness=os.path.join(\"data\", \"witness.json\"),\n",
    "    model=os.path.join(\"data\", \"model.compiled\"),\n",
    "    pk_path=os.path.join(\"data\", \"pk.key\"),\n",
    "    proof_type=\"single\", \n",
    "    proof_path=os.path.join(\"data\", \"proof.json\"),\n",
    ")\n",
    "\n",
    "print(proof)\n",
    "assert os.path.isfile(proof_path)"
   ]
  },
  {
   "cell_type": "code",
   "execution_count": 160,
   "metadata": {
    "colab": {
     "background_save": true
    },
    "id": "qMdwJOxTRALJ",
    "outputId": "dcb9c1ce-9ba1-439f-b544-f4d493989058"
   },
   "outputs": [
    {
     "name": "stdout",
     "output_type": "stream",
     "text": [
      "verified\n"
     ]
    }
   ],
   "source": [
    "# verify proof\n",
    "res = ezkl.verify(\n",
    "    proof_path=os.path.join(\"data\", \"proof.json\"),\n",
    "    vk_path=os.path.join(\"data\", \"vk.key\"),\n",
    "    settings_path=os.path.join(\"data\", \"settings.json\"),\n",
    ")\n",
    "\n",
    "assert res == True\n",
    "print(\"verified\")"
   ]
  }
 ],
 "metadata": {
  "colab": {
   "provenance": []
  },
  "kernelspec": {
   "display_name": ".venv",
   "language": "python",
   "name": "python3"
  },
  "language_info": {
   "codemirror_mode": {
    "name": "ipython",
    "version": 3
   },
   "file_extension": ".py",
   "mimetype": "text/x-python",
   "name": "python",
   "nbconvert_exporter": "python",
   "pygments_lexer": "ipython3",
   "version": "3.12.2"
  }
 },
 "nbformat": 4,
 "nbformat_minor": 4
}
